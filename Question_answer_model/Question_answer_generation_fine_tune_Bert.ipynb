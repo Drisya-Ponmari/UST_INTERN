{
  "nbformat": 4,
  "nbformat_minor": 0,
  "metadata": {
    "colab": {
      "name": "Question_answer_generation_fine_tune_Bert.ipynb",
      "provenance": [],
      "include_colab_link": true
    },
    "kernelspec": {
      "name": "python3",
      "display_name": "Python 3"
    },
    "widgets": {
      "application/vnd.jupyter.widget-state+json": {
        "a20ea0c3d3714e40a7c9711f5f2b30ae": {
          "model_module": "@jupyter-widgets/controls",
          "model_name": "HBoxModel",
          "state": {
            "_view_name": "HBoxView",
            "_dom_classes": [],
            "_model_name": "HBoxModel",
            "_view_module": "@jupyter-widgets/controls",
            "_model_module_version": "1.5.0",
            "_view_count": null,
            "_view_module_version": "1.5.0",
            "box_style": "",
            "layout": "IPY_MODEL_2dfb3408695e4effa08162028d469973",
            "_model_module": "@jupyter-widgets/controls",
            "children": [
              "IPY_MODEL_89f4fe8d086e4ac38e7349af694dd9a1",
              "IPY_MODEL_74d722da21974b6ab76246bc9e8ed286"
            ]
          }
        },
        "2dfb3408695e4effa08162028d469973": {
          "model_module": "@jupyter-widgets/base",
          "model_name": "LayoutModel",
          "state": {
            "_view_name": "LayoutView",
            "grid_template_rows": null,
            "right": null,
            "justify_content": null,
            "_view_module": "@jupyter-widgets/base",
            "overflow": null,
            "_model_module_version": "1.2.0",
            "_view_count": null,
            "flex_flow": null,
            "width": null,
            "min_width": null,
            "border": null,
            "align_items": null,
            "bottom": null,
            "_model_module": "@jupyter-widgets/base",
            "top": null,
            "grid_column": null,
            "overflow_y": null,
            "overflow_x": null,
            "grid_auto_flow": null,
            "grid_area": null,
            "grid_template_columns": null,
            "flex": null,
            "_model_name": "LayoutModel",
            "justify_items": null,
            "grid_row": null,
            "max_height": null,
            "align_content": null,
            "visibility": null,
            "align_self": null,
            "height": null,
            "min_height": null,
            "padding": null,
            "grid_auto_rows": null,
            "grid_gap": null,
            "max_width": null,
            "order": null,
            "_view_module_version": "1.2.0",
            "grid_template_areas": null,
            "object_position": null,
            "object_fit": null,
            "grid_auto_columns": null,
            "margin": null,
            "display": null,
            "left": null
          }
        },
        "89f4fe8d086e4ac38e7349af694dd9a1": {
          "model_module": "@jupyter-widgets/controls",
          "model_name": "FloatProgressModel",
          "state": {
            "_view_name": "ProgressView",
            "style": "IPY_MODEL_6e12a82c558d4f07b5f6c5e968664609",
            "_dom_classes": [],
            "description": "Downloading: 100%",
            "_model_name": "FloatProgressModel",
            "bar_style": "success",
            "max": 443,
            "_view_module": "@jupyter-widgets/controls",
            "_model_module_version": "1.5.0",
            "value": 443,
            "_view_count": null,
            "_view_module_version": "1.5.0",
            "orientation": "horizontal",
            "min": 0,
            "description_tooltip": null,
            "_model_module": "@jupyter-widgets/controls",
            "layout": "IPY_MODEL_2040d736cb5d47af8d21c95b23d9eaeb"
          }
        },
        "74d722da21974b6ab76246bc9e8ed286": {
          "model_module": "@jupyter-widgets/controls",
          "model_name": "HTMLModel",
          "state": {
            "_view_name": "HTMLView",
            "style": "IPY_MODEL_5a41ee1755af4444afcfb4fee099641e",
            "_dom_classes": [],
            "description": "",
            "_model_name": "HTMLModel",
            "placeholder": "​",
            "_view_module": "@jupyter-widgets/controls",
            "_model_module_version": "1.5.0",
            "value": " 443/443 [00:55&lt;00:00, 7.92B/s]",
            "_view_count": null,
            "_view_module_version": "1.5.0",
            "description_tooltip": null,
            "_model_module": "@jupyter-widgets/controls",
            "layout": "IPY_MODEL_fb3524c8a0a14d199c39079f69a7a303"
          }
        },
        "6e12a82c558d4f07b5f6c5e968664609": {
          "model_module": "@jupyter-widgets/controls",
          "model_name": "ProgressStyleModel",
          "state": {
            "_view_name": "StyleView",
            "_model_name": "ProgressStyleModel",
            "description_width": "initial",
            "_view_module": "@jupyter-widgets/base",
            "_model_module_version": "1.5.0",
            "_view_count": null,
            "_view_module_version": "1.2.0",
            "bar_color": null,
            "_model_module": "@jupyter-widgets/controls"
          }
        },
        "2040d736cb5d47af8d21c95b23d9eaeb": {
          "model_module": "@jupyter-widgets/base",
          "model_name": "LayoutModel",
          "state": {
            "_view_name": "LayoutView",
            "grid_template_rows": null,
            "right": null,
            "justify_content": null,
            "_view_module": "@jupyter-widgets/base",
            "overflow": null,
            "_model_module_version": "1.2.0",
            "_view_count": null,
            "flex_flow": null,
            "width": null,
            "min_width": null,
            "border": null,
            "align_items": null,
            "bottom": null,
            "_model_module": "@jupyter-widgets/base",
            "top": null,
            "grid_column": null,
            "overflow_y": null,
            "overflow_x": null,
            "grid_auto_flow": null,
            "grid_area": null,
            "grid_template_columns": null,
            "flex": null,
            "_model_name": "LayoutModel",
            "justify_items": null,
            "grid_row": null,
            "max_height": null,
            "align_content": null,
            "visibility": null,
            "align_self": null,
            "height": null,
            "min_height": null,
            "padding": null,
            "grid_auto_rows": null,
            "grid_gap": null,
            "max_width": null,
            "order": null,
            "_view_module_version": "1.2.0",
            "grid_template_areas": null,
            "object_position": null,
            "object_fit": null,
            "grid_auto_columns": null,
            "margin": null,
            "display": null,
            "left": null
          }
        },
        "5a41ee1755af4444afcfb4fee099641e": {
          "model_module": "@jupyter-widgets/controls",
          "model_name": "DescriptionStyleModel",
          "state": {
            "_view_name": "StyleView",
            "_model_name": "DescriptionStyleModel",
            "description_width": "",
            "_view_module": "@jupyter-widgets/base",
            "_model_module_version": "1.5.0",
            "_view_count": null,
            "_view_module_version": "1.2.0",
            "_model_module": "@jupyter-widgets/controls"
          }
        },
        "fb3524c8a0a14d199c39079f69a7a303": {
          "model_module": "@jupyter-widgets/base",
          "model_name": "LayoutModel",
          "state": {
            "_view_name": "LayoutView",
            "grid_template_rows": null,
            "right": null,
            "justify_content": null,
            "_view_module": "@jupyter-widgets/base",
            "overflow": null,
            "_model_module_version": "1.2.0",
            "_view_count": null,
            "flex_flow": null,
            "width": null,
            "min_width": null,
            "border": null,
            "align_items": null,
            "bottom": null,
            "_model_module": "@jupyter-widgets/base",
            "top": null,
            "grid_column": null,
            "overflow_y": null,
            "overflow_x": null,
            "grid_auto_flow": null,
            "grid_area": null,
            "grid_template_columns": null,
            "flex": null,
            "_model_name": "LayoutModel",
            "justify_items": null,
            "grid_row": null,
            "max_height": null,
            "align_content": null,
            "visibility": null,
            "align_self": null,
            "height": null,
            "min_height": null,
            "padding": null,
            "grid_auto_rows": null,
            "grid_gap": null,
            "max_width": null,
            "order": null,
            "_view_module_version": "1.2.0",
            "grid_template_areas": null,
            "object_position": null,
            "object_fit": null,
            "grid_auto_columns": null,
            "margin": null,
            "display": null,
            "left": null
          }
        },
        "fadecd4c44fe43cc81d1bb509d0ba611": {
          "model_module": "@jupyter-widgets/controls",
          "model_name": "HBoxModel",
          "state": {
            "_view_name": "HBoxView",
            "_dom_classes": [],
            "_model_name": "HBoxModel",
            "_view_module": "@jupyter-widgets/controls",
            "_model_module_version": "1.5.0",
            "_view_count": null,
            "_view_module_version": "1.5.0",
            "box_style": "",
            "layout": "IPY_MODEL_82e8034b816f4485bd7ef9ed2cf0cd7f",
            "_model_module": "@jupyter-widgets/controls",
            "children": [
              "IPY_MODEL_9c1630fda2e34a8eb7c2926cc80f524d",
              "IPY_MODEL_9cea072c9854414a91823d469930f77e"
            ]
          }
        },
        "82e8034b816f4485bd7ef9ed2cf0cd7f": {
          "model_module": "@jupyter-widgets/base",
          "model_name": "LayoutModel",
          "state": {
            "_view_name": "LayoutView",
            "grid_template_rows": null,
            "right": null,
            "justify_content": null,
            "_view_module": "@jupyter-widgets/base",
            "overflow": null,
            "_model_module_version": "1.2.0",
            "_view_count": null,
            "flex_flow": null,
            "width": null,
            "min_width": null,
            "border": null,
            "align_items": null,
            "bottom": null,
            "_model_module": "@jupyter-widgets/base",
            "top": null,
            "grid_column": null,
            "overflow_y": null,
            "overflow_x": null,
            "grid_auto_flow": null,
            "grid_area": null,
            "grid_template_columns": null,
            "flex": null,
            "_model_name": "LayoutModel",
            "justify_items": null,
            "grid_row": null,
            "max_height": null,
            "align_content": null,
            "visibility": null,
            "align_self": null,
            "height": null,
            "min_height": null,
            "padding": null,
            "grid_auto_rows": null,
            "grid_gap": null,
            "max_width": null,
            "order": null,
            "_view_module_version": "1.2.0",
            "grid_template_areas": null,
            "object_position": null,
            "object_fit": null,
            "grid_auto_columns": null,
            "margin": null,
            "display": null,
            "left": null
          }
        },
        "9c1630fda2e34a8eb7c2926cc80f524d": {
          "model_module": "@jupyter-widgets/controls",
          "model_name": "FloatProgressModel",
          "state": {
            "_view_name": "ProgressView",
            "style": "IPY_MODEL_45ad761c5f554c4a873d2ea7f7909cd9",
            "_dom_classes": [],
            "description": "Downloading: 100%",
            "_model_name": "FloatProgressModel",
            "bar_style": "success",
            "max": 1340675298,
            "_view_module": "@jupyter-widgets/controls",
            "_model_module_version": "1.5.0",
            "value": 1340675298,
            "_view_count": null,
            "_view_module_version": "1.5.0",
            "orientation": "horizontal",
            "min": 0,
            "description_tooltip": null,
            "_model_module": "@jupyter-widgets/controls",
            "layout": "IPY_MODEL_5b9d02d747b142bf8584e348d4a402c8"
          }
        },
        "9cea072c9854414a91823d469930f77e": {
          "model_module": "@jupyter-widgets/controls",
          "model_name": "HTMLModel",
          "state": {
            "_view_name": "HTMLView",
            "style": "IPY_MODEL_13c85688fd134d45875dfbe728ee0420",
            "_dom_classes": [],
            "description": "",
            "_model_name": "HTMLModel",
            "placeholder": "​",
            "_view_module": "@jupyter-widgets/controls",
            "_model_module_version": "1.5.0",
            "value": " 1.34G/1.34G [00:55&lt;00:00, 24.2MB/s]",
            "_view_count": null,
            "_view_module_version": "1.5.0",
            "description_tooltip": null,
            "_model_module": "@jupyter-widgets/controls",
            "layout": "IPY_MODEL_d81f3ee2c11148ebbc68cc877deda8d4"
          }
        },
        "45ad761c5f554c4a873d2ea7f7909cd9": {
          "model_module": "@jupyter-widgets/controls",
          "model_name": "ProgressStyleModel",
          "state": {
            "_view_name": "StyleView",
            "_model_name": "ProgressStyleModel",
            "description_width": "initial",
            "_view_module": "@jupyter-widgets/base",
            "_model_module_version": "1.5.0",
            "_view_count": null,
            "_view_module_version": "1.2.0",
            "bar_color": null,
            "_model_module": "@jupyter-widgets/controls"
          }
        },
        "5b9d02d747b142bf8584e348d4a402c8": {
          "model_module": "@jupyter-widgets/base",
          "model_name": "LayoutModel",
          "state": {
            "_view_name": "LayoutView",
            "grid_template_rows": null,
            "right": null,
            "justify_content": null,
            "_view_module": "@jupyter-widgets/base",
            "overflow": null,
            "_model_module_version": "1.2.0",
            "_view_count": null,
            "flex_flow": null,
            "width": null,
            "min_width": null,
            "border": null,
            "align_items": null,
            "bottom": null,
            "_model_module": "@jupyter-widgets/base",
            "top": null,
            "grid_column": null,
            "overflow_y": null,
            "overflow_x": null,
            "grid_auto_flow": null,
            "grid_area": null,
            "grid_template_columns": null,
            "flex": null,
            "_model_name": "LayoutModel",
            "justify_items": null,
            "grid_row": null,
            "max_height": null,
            "align_content": null,
            "visibility": null,
            "align_self": null,
            "height": null,
            "min_height": null,
            "padding": null,
            "grid_auto_rows": null,
            "grid_gap": null,
            "max_width": null,
            "order": null,
            "_view_module_version": "1.2.0",
            "grid_template_areas": null,
            "object_position": null,
            "object_fit": null,
            "grid_auto_columns": null,
            "margin": null,
            "display": null,
            "left": null
          }
        },
        "13c85688fd134d45875dfbe728ee0420": {
          "model_module": "@jupyter-widgets/controls",
          "model_name": "DescriptionStyleModel",
          "state": {
            "_view_name": "StyleView",
            "_model_name": "DescriptionStyleModel",
            "description_width": "",
            "_view_module": "@jupyter-widgets/base",
            "_model_module_version": "1.5.0",
            "_view_count": null,
            "_view_module_version": "1.2.0",
            "_model_module": "@jupyter-widgets/controls"
          }
        },
        "d81f3ee2c11148ebbc68cc877deda8d4": {
          "model_module": "@jupyter-widgets/base",
          "model_name": "LayoutModel",
          "state": {
            "_view_name": "LayoutView",
            "grid_template_rows": null,
            "right": null,
            "justify_content": null,
            "_view_module": "@jupyter-widgets/base",
            "overflow": null,
            "_model_module_version": "1.2.0",
            "_view_count": null,
            "flex_flow": null,
            "width": null,
            "min_width": null,
            "border": null,
            "align_items": null,
            "bottom": null,
            "_model_module": "@jupyter-widgets/base",
            "top": null,
            "grid_column": null,
            "overflow_y": null,
            "overflow_x": null,
            "grid_auto_flow": null,
            "grid_area": null,
            "grid_template_columns": null,
            "flex": null,
            "_model_name": "LayoutModel",
            "justify_items": null,
            "grid_row": null,
            "max_height": null,
            "align_content": null,
            "visibility": null,
            "align_self": null,
            "height": null,
            "min_height": null,
            "padding": null,
            "grid_auto_rows": null,
            "grid_gap": null,
            "max_width": null,
            "order": null,
            "_view_module_version": "1.2.0",
            "grid_template_areas": null,
            "object_position": null,
            "object_fit": null,
            "grid_auto_columns": null,
            "margin": null,
            "display": null,
            "left": null
          }
        },
        "0b876447478b4474ae354a72732942fd": {
          "model_module": "@jupyter-widgets/controls",
          "model_name": "HBoxModel",
          "state": {
            "_view_name": "HBoxView",
            "_dom_classes": [],
            "_model_name": "HBoxModel",
            "_view_module": "@jupyter-widgets/controls",
            "_model_module_version": "1.5.0",
            "_view_count": null,
            "_view_module_version": "1.5.0",
            "box_style": "",
            "layout": "IPY_MODEL_6bd867057441414787d25ae3c096e732",
            "_model_module": "@jupyter-widgets/controls",
            "children": [
              "IPY_MODEL_d51a73acd17a430a96748389eb4bed71",
              "IPY_MODEL_9385302d01f24ff7b067d9bc8548a931"
            ]
          }
        },
        "6bd867057441414787d25ae3c096e732": {
          "model_module": "@jupyter-widgets/base",
          "model_name": "LayoutModel",
          "state": {
            "_view_name": "LayoutView",
            "grid_template_rows": null,
            "right": null,
            "justify_content": null,
            "_view_module": "@jupyter-widgets/base",
            "overflow": null,
            "_model_module_version": "1.2.0",
            "_view_count": null,
            "flex_flow": null,
            "width": null,
            "min_width": null,
            "border": null,
            "align_items": null,
            "bottom": null,
            "_model_module": "@jupyter-widgets/base",
            "top": null,
            "grid_column": null,
            "overflow_y": null,
            "overflow_x": null,
            "grid_auto_flow": null,
            "grid_area": null,
            "grid_template_columns": null,
            "flex": null,
            "_model_name": "LayoutModel",
            "justify_items": null,
            "grid_row": null,
            "max_height": null,
            "align_content": null,
            "visibility": null,
            "align_self": null,
            "height": null,
            "min_height": null,
            "padding": null,
            "grid_auto_rows": null,
            "grid_gap": null,
            "max_width": null,
            "order": null,
            "_view_module_version": "1.2.0",
            "grid_template_areas": null,
            "object_position": null,
            "object_fit": null,
            "grid_auto_columns": null,
            "margin": null,
            "display": null,
            "left": null
          }
        },
        "d51a73acd17a430a96748389eb4bed71": {
          "model_module": "@jupyter-widgets/controls",
          "model_name": "FloatProgressModel",
          "state": {
            "_view_name": "ProgressView",
            "style": "IPY_MODEL_91a97e44518d4bff985884ec602464ef",
            "_dom_classes": [],
            "description": "Downloading: 100%",
            "_model_name": "FloatProgressModel",
            "bar_style": "success",
            "max": 231508,
            "_view_module": "@jupyter-widgets/controls",
            "_model_module_version": "1.5.0",
            "value": 231508,
            "_view_count": null,
            "_view_module_version": "1.5.0",
            "orientation": "horizontal",
            "min": 0,
            "description_tooltip": null,
            "_model_module": "@jupyter-widgets/controls",
            "layout": "IPY_MODEL_c5d12eae7e6c48f28dcaf979a566961d"
          }
        },
        "9385302d01f24ff7b067d9bc8548a931": {
          "model_module": "@jupyter-widgets/controls",
          "model_name": "HTMLModel",
          "state": {
            "_view_name": "HTMLView",
            "style": "IPY_MODEL_e087e6f5776e4b3f8841dc0d78c7bb5d",
            "_dom_classes": [],
            "description": "",
            "_model_name": "HTMLModel",
            "placeholder": "​",
            "_view_module": "@jupyter-widgets/controls",
            "_model_module_version": "1.5.0",
            "value": " 232k/232k [00:00&lt;00:00, 305kB/s]",
            "_view_count": null,
            "_view_module_version": "1.5.0",
            "description_tooltip": null,
            "_model_module": "@jupyter-widgets/controls",
            "layout": "IPY_MODEL_3376c6b7b87b424d84232d892f9de6e4"
          }
        },
        "91a97e44518d4bff985884ec602464ef": {
          "model_module": "@jupyter-widgets/controls",
          "model_name": "ProgressStyleModel",
          "state": {
            "_view_name": "StyleView",
            "_model_name": "ProgressStyleModel",
            "description_width": "initial",
            "_view_module": "@jupyter-widgets/base",
            "_model_module_version": "1.5.0",
            "_view_count": null,
            "_view_module_version": "1.2.0",
            "bar_color": null,
            "_model_module": "@jupyter-widgets/controls"
          }
        },
        "c5d12eae7e6c48f28dcaf979a566961d": {
          "model_module": "@jupyter-widgets/base",
          "model_name": "LayoutModel",
          "state": {
            "_view_name": "LayoutView",
            "grid_template_rows": null,
            "right": null,
            "justify_content": null,
            "_view_module": "@jupyter-widgets/base",
            "overflow": null,
            "_model_module_version": "1.2.0",
            "_view_count": null,
            "flex_flow": null,
            "width": null,
            "min_width": null,
            "border": null,
            "align_items": null,
            "bottom": null,
            "_model_module": "@jupyter-widgets/base",
            "top": null,
            "grid_column": null,
            "overflow_y": null,
            "overflow_x": null,
            "grid_auto_flow": null,
            "grid_area": null,
            "grid_template_columns": null,
            "flex": null,
            "_model_name": "LayoutModel",
            "justify_items": null,
            "grid_row": null,
            "max_height": null,
            "align_content": null,
            "visibility": null,
            "align_self": null,
            "height": null,
            "min_height": null,
            "padding": null,
            "grid_auto_rows": null,
            "grid_gap": null,
            "max_width": null,
            "order": null,
            "_view_module_version": "1.2.0",
            "grid_template_areas": null,
            "object_position": null,
            "object_fit": null,
            "grid_auto_columns": null,
            "margin": null,
            "display": null,
            "left": null
          }
        },
        "e087e6f5776e4b3f8841dc0d78c7bb5d": {
          "model_module": "@jupyter-widgets/controls",
          "model_name": "DescriptionStyleModel",
          "state": {
            "_view_name": "StyleView",
            "_model_name": "DescriptionStyleModel",
            "description_width": "",
            "_view_module": "@jupyter-widgets/base",
            "_model_module_version": "1.5.0",
            "_view_count": null,
            "_view_module_version": "1.2.0",
            "_model_module": "@jupyter-widgets/controls"
          }
        },
        "3376c6b7b87b424d84232d892f9de6e4": {
          "model_module": "@jupyter-widgets/base",
          "model_name": "LayoutModel",
          "state": {
            "_view_name": "LayoutView",
            "grid_template_rows": null,
            "right": null,
            "justify_content": null,
            "_view_module": "@jupyter-widgets/base",
            "overflow": null,
            "_model_module_version": "1.2.0",
            "_view_count": null,
            "flex_flow": null,
            "width": null,
            "min_width": null,
            "border": null,
            "align_items": null,
            "bottom": null,
            "_model_module": "@jupyter-widgets/base",
            "top": null,
            "grid_column": null,
            "overflow_y": null,
            "overflow_x": null,
            "grid_auto_flow": null,
            "grid_area": null,
            "grid_template_columns": null,
            "flex": null,
            "_model_name": "LayoutModel",
            "justify_items": null,
            "grid_row": null,
            "max_height": null,
            "align_content": null,
            "visibility": null,
            "align_self": null,
            "height": null,
            "min_height": null,
            "padding": null,
            "grid_auto_rows": null,
            "grid_gap": null,
            "max_width": null,
            "order": null,
            "_view_module_version": "1.2.0",
            "grid_template_areas": null,
            "object_position": null,
            "object_fit": null,
            "grid_auto_columns": null,
            "margin": null,
            "display": null,
            "left": null
          }
        }
      }
    }
  },
  "cells": [
    {
      "cell_type": "markdown",
      "metadata": {
        "id": "view-in-github",
        "colab_type": "text"
      },
      "source": [
        "<a href=\"https://colab.research.google.com/github/Drisya-Ponmari/UST_INTERN/blob/master/Question_answer_model/Question_answer_generation_fine_tune_Bert.ipynb\" target=\"_parent\"><img src=\"https://colab.research.google.com/assets/colab-badge.svg\" alt=\"Open In Colab\"/></a>"
      ]
    },
    {
      "cell_type": "markdown",
      "metadata": {
        "id": "Zt_wWCdo2mYK",
        "colab_type": "text"
      },
      "source": [
        "#**1.DATASET**\n",
        "Stanford Question Answering Dataset(SQuAD)"
      ]
    },
    {
      "cell_type": "markdown",
      "metadata": {
        "id": "rhpw5lel6EDH",
        "colab_type": "text"
      },
      "source": [
        "#**2.MODEL - KEY COMPONENTS**\n",
        "\n",
        "**Embeding Layer**\n",
        "*   The training dataset consist of context and corresponding Questions\n",
        "*   So we need to convert to vectors . (Tokenizer Library can be used)  \n",
        "\n",
        "**Encoder Layer**\n",
        "* RNN with Attention mechanism can be used (transformer library)\n",
        "\n",
        "Dot product Attention Mechanism\n",
        "![image.png](data:image/png;base64,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)\n",
        "\n",
        "\n",
        "\n",
        "The dot product attention would be that for each context vector ci each question vector qj is multiplied to get ei.Soft max over ei get alpha.Finally calculate the producat of the attention distribution alpha and the corresponding question vector\n",
        "\n",
        "![image.png](data:image/png;base64,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)\n",
        "![image.png](data:image/png;base64,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)"
      ]
    },
    {
      "cell_type": "markdown",
      "metadata": {
        "id": "5uWhnD3OD5Y9",
        "colab_type": "text"
      },
      "source": [
        "**More Complex Attention - BiDAF Attention**\n",
        "Running SQuAD over BiADF will result in greater performance .Because Attention can be achieved bothways in this. i.e **from the context to question and question to context**\n",
        "\n"
      ]
    },
    {
      "cell_type": "markdown",
      "metadata": {
        "id": "plkCijwi8ZgH",
        "colab_type": "text"
      },
      "source": [
        "#**3.QUESTION ANSWER MODEL -FINE TUNED BERT**#\n",
        "\n",
        "Task: Given a question and a passage of text containing the answer , BERT needs to highlight the \"span\" of text corresponding to the correct answer\n",
        "\n",
        "Dataset : SQuaD (understanding Squad Dataset)\n",
        "\n",
        "Model : \n",
        "For Quesion answering we use BertForQuestionAnswering class from the transformers library.\n",
        "\n",
        "This class supports fine-tuning, but for this example we will keep things simpler and load a BERT model that has already been fine-tuned for the SQuAD benchmark.\n",
        "\n",
        "Documentation : https://huggingface.co/transformers/pretrained_models.html\n"
      ]
    },
    {
      "cell_type": "markdown",
      "metadata": {
        "id": "acj_VjLy-0o8",
        "colab_type": "text"
      },
      "source": [
        "**BERT INPUT FORMAT**\n",
        "\n",
        "As input we take both input and the context(i.e reference text)\n"
      ]
    },
    {
      "cell_type": "markdown",
      "metadata": {
        "id": "Ctum5SK6f9uP",
        "colab_type": "text"
      },
      "source": [
        "To feed a QA task into BERT, we pack both the question and the reference text into the input.\n",
        "\n",
        "![Input format for QA](http://www.mccormickml.com/assets/BERT/SQuAD/input_formatting.png)\n",
        "\n",
        "The two pieces of text are separated by the special `[SEP]` token. \n",
        "\n",
        "BERT also uses \"Segment Embeddings\" to differentiate the question from the reference text. These are simply two embeddings (for segments \"A\" and \"B\") that BERT learned, and which it adds to the token embeddings before feeding them into the input layer. (SEGMENT EMBEDINGS)"
      ]
    },
    {
      "cell_type": "markdown",
      "metadata": {
        "id": "lvOdUa9Wg-Uv",
        "colab_type": "text"
      },
      "source": [
        "BERT needs to highlight a \"span\" of text containing the answer--this is represented as simply predicting which token marks the start of the answer, and which token marks the end.\n",
        "\n",
        "![Start token classification](http://www.mccormickml.com/assets/BERT/SQuAD/start_token_classification.png)\n",
        "\n",
        "For every token in the text, we feed its final embedding into the start token classifier. The start token classifier only has a single set of weights (represented by the blue \"start\" rectangle in the above illustration) which it applies to every word.\n",
        "\n",
        "After taking the dot product between the output embeddings and the 'start' weights, we apply the softmax activation to produce a probability distribution over all of the words. Whichever word has the highest probability of being the start token is the one that we pick.\n",
        "\n",
        "We repeat this process for the end token--we have a separate weight vector this.\n",
        "\n",
        "![End token classification](http://www.mccormickml.com/assets/BERT/SQuAD/end_token_classification.png)\n",
        "\n",
        "\n",
        "Standford paper: https://web.stanford.edu/class/archive/cs/cs224n/cs224n.1194/reports/default/15848021.pdf"
      ]
    },
    {
      "cell_type": "markdown",
      "metadata": {
        "id": "bMGhjGYe_x_O",
        "colab_type": "text"
      },
      "source": [
        "**EXAMPLE**"
      ]
    },
    {
      "cell_type": "code",
      "metadata": {
        "id": "ajNWJKJ4vtmK",
        "colab_type": "code",
        "colab": {
          "base_uri": "https://localhost:8080/",
          "height": 627
        },
        "outputId": "e931df7f-3b1a-4f52-ef17-65a06e0c9f9e"
      },
      "source": [
        "!pip install transformers"
      ],
      "execution_count": null,
      "outputs": [
        {
          "output_type": "stream",
          "text": [
            "Collecting transformers\n",
            "\u001b[?25l  Downloading https://files.pythonhosted.org/packages/27/3c/91ed8f5c4e7ef3227b4119200fc0ed4b4fd965b1f0172021c25701087825/transformers-3.0.2-py3-none-any.whl (769kB)\n",
            "\u001b[K     |████████████████████████████████| 778kB 2.8MB/s \n",
            "\u001b[?25hRequirement already satisfied: dataclasses; python_version < \"3.7\" in /usr/local/lib/python3.6/dist-packages (from transformers) (0.7)\n",
            "Requirement already satisfied: requests in /usr/local/lib/python3.6/dist-packages (from transformers) (2.23.0)\n",
            "Requirement already satisfied: packaging in /usr/local/lib/python3.6/dist-packages (from transformers) (20.4)\n",
            "Requirement already satisfied: regex!=2019.12.17 in /usr/local/lib/python3.6/dist-packages (from transformers) (2019.12.20)\n",
            "Requirement already satisfied: tqdm>=4.27 in /usr/local/lib/python3.6/dist-packages (from transformers) (4.41.1)\n",
            "Collecting sentencepiece!=0.1.92\n",
            "\u001b[?25l  Downloading https://files.pythonhosted.org/packages/d4/a4/d0a884c4300004a78cca907a6ff9a5e9fe4f090f5d95ab341c53d28cbc58/sentencepiece-0.1.91-cp36-cp36m-manylinux1_x86_64.whl (1.1MB)\n",
            "\u001b[K     |████████████████████████████████| 1.1MB 8.8MB/s \n",
            "\u001b[?25hRequirement already satisfied: filelock in /usr/local/lib/python3.6/dist-packages (from transformers) (3.0.12)\n",
            "Collecting tokenizers==0.8.1.rc1\n",
            "\u001b[?25l  Downloading https://files.pythonhosted.org/packages/40/d0/30d5f8d221a0ed981a186c8eb986ce1c94e3a6e87f994eae9f4aa5250217/tokenizers-0.8.1rc1-cp36-cp36m-manylinux1_x86_64.whl (3.0MB)\n",
            "\u001b[K     |████████████████████████████████| 3.0MB 18.3MB/s \n",
            "\u001b[?25hRequirement already satisfied: numpy in /usr/local/lib/python3.6/dist-packages (from transformers) (1.18.5)\n",
            "Collecting sacremoses\n",
            "\u001b[?25l  Downloading https://files.pythonhosted.org/packages/7d/34/09d19aff26edcc8eb2a01bed8e98f13a1537005d31e95233fd48216eed10/sacremoses-0.0.43.tar.gz (883kB)\n",
            "\u001b[K     |████████████████████████████████| 890kB 44.2MB/s \n",
            "\u001b[?25hRequirement already satisfied: certifi>=2017.4.17 in /usr/local/lib/python3.6/dist-packages (from requests->transformers) (2020.6.20)\n",
            "Requirement already satisfied: chardet<4,>=3.0.2 in /usr/local/lib/python3.6/dist-packages (from requests->transformers) (3.0.4)\n",
            "Requirement already satisfied: idna<3,>=2.5 in /usr/local/lib/python3.6/dist-packages (from requests->transformers) (2.9)\n",
            "Requirement already satisfied: urllib3!=1.25.0,!=1.25.1,<1.26,>=1.21.1 in /usr/local/lib/python3.6/dist-packages (from requests->transformers) (1.24.3)\n",
            "Requirement already satisfied: six in /usr/local/lib/python3.6/dist-packages (from packaging->transformers) (1.12.0)\n",
            "Requirement already satisfied: pyparsing>=2.0.2 in /usr/local/lib/python3.6/dist-packages (from packaging->transformers) (2.4.7)\n",
            "Requirement already satisfied: click in /usr/local/lib/python3.6/dist-packages (from sacremoses->transformers) (7.1.2)\n",
            "Requirement already satisfied: joblib in /usr/local/lib/python3.6/dist-packages (from sacremoses->transformers) (0.15.1)\n",
            "Building wheels for collected packages: sacremoses\n",
            "  Building wheel for sacremoses (setup.py) ... \u001b[?25l\u001b[?25hdone\n",
            "  Created wheel for sacremoses: filename=sacremoses-0.0.43-cp36-none-any.whl size=893260 sha256=7af486e64392f82699b050921488ab9d2992004f3e45d1a1c4cf6da9fc3b6e3d\n",
            "  Stored in directory: /root/.cache/pip/wheels/29/3c/fd/7ce5c3f0666dab31a50123635e6fb5e19ceb42ce38d4e58f45\n",
            "Successfully built sacremoses\n",
            "Installing collected packages: sentencepiece, tokenizers, sacremoses, transformers\n",
            "Successfully installed sacremoses-0.0.43 sentencepiece-0.1.91 tokenizers-0.8.1rc1 transformers-3.0.2\n"
          ],
          "name": "stdout"
        }
      ]
    },
    {
      "cell_type": "code",
      "metadata": {
        "id": "yA3aXAW1_4x0",
        "colab_type": "code",
        "colab": {}
      },
      "source": [
        "import torch"
      ],
      "execution_count": null,
      "outputs": []
    },
    {
      "cell_type": "code",
      "metadata": {
        "id": "aq2r8HE8A0sN",
        "colab_type": "code",
        "colab": {
          "base_uri": "https://localhost:8080/",
          "height": 116,
          "referenced_widgets": [
            "a20ea0c3d3714e40a7c9711f5f2b30ae",
            "2dfb3408695e4effa08162028d469973",
            "89f4fe8d086e4ac38e7349af694dd9a1",
            "74d722da21974b6ab76246bc9e8ed286",
            "6e12a82c558d4f07b5f6c5e968664609",
            "2040d736cb5d47af8d21c95b23d9eaeb",
            "5a41ee1755af4444afcfb4fee099641e",
            "fb3524c8a0a14d199c39079f69a7a303",
            "fadecd4c44fe43cc81d1bb509d0ba611",
            "82e8034b816f4485bd7ef9ed2cf0cd7f",
            "9c1630fda2e34a8eb7c2926cc80f524d",
            "9cea072c9854414a91823d469930f77e",
            "45ad761c5f554c4a873d2ea7f7909cd9",
            "5b9d02d747b142bf8584e348d4a402c8",
            "13c85688fd134d45875dfbe728ee0420",
            "d81f3ee2c11148ebbc68cc877deda8d4"
          ]
        },
        "outputId": "41c55cf7-4295-443a-e666-c989ed9cf147"
      },
      "source": [
        "#fine tuned model\n",
        "from transformers import BertForQuestionAnswering\n",
        "\n",
        "model = BertForQuestionAnswering.from_pretrained('bert-large-uncased-whole-word-masking-finetuned-squad')\n"
      ],
      "execution_count": null,
      "outputs": [
        {
          "output_type": "display_data",
          "data": {
            "application/vnd.jupyter.widget-view+json": {
              "model_id": "a20ea0c3d3714e40a7c9711f5f2b30ae",
              "version_minor": 0,
              "version_major": 2
            },
            "text/plain": [
              "HBox(children=(FloatProgress(value=0.0, description='Downloading', max=443.0, style=ProgressStyle(description_…"
            ]
          },
          "metadata": {
            "tags": []
          }
        },
        {
          "output_type": "stream",
          "text": [
            "\n"
          ],
          "name": "stdout"
        },
        {
          "output_type": "display_data",
          "data": {
            "application/vnd.jupyter.widget-view+json": {
              "model_id": "fadecd4c44fe43cc81d1bb509d0ba611",
              "version_minor": 0,
              "version_major": 2
            },
            "text/plain": [
              "HBox(children=(FloatProgress(value=0.0, description='Downloading', max=1340675298.0, style=ProgressStyle(descr…"
            ]
          },
          "metadata": {
            "tags": []
          }
        },
        {
          "output_type": "stream",
          "text": [
            "\n"
          ],
          "name": "stdout"
        }
      ]
    },
    {
      "cell_type": "code",
      "metadata": {
        "id": "1-nTzO4BA21Q",
        "colab_type": "code",
        "colab": {
          "base_uri": "https://localhost:8080/",
          "height": 66,
          "referenced_widgets": [
            "0b876447478b4474ae354a72732942fd",
            "6bd867057441414787d25ae3c096e732",
            "d51a73acd17a430a96748389eb4bed71",
            "9385302d01f24ff7b067d9bc8548a931",
            "91a97e44518d4bff985884ec602464ef",
            "c5d12eae7e6c48f28dcaf979a566961d",
            "e087e6f5776e4b3f8841dc0d78c7bb5d",
            "3376c6b7b87b424d84232d892f9de6e4"
          ]
        },
        "outputId": "441f4777-f557-4a1f-871c-37936695c857"
      },
      "source": [
        "#Bert tokenizer\n",
        "from transformers import BertTokenizer\n",
        "\n",
        "tokenizer = BertTokenizer.from_pretrained('bert-large-uncased-whole-word-masking-finetuned-squad')"
      ],
      "execution_count": null,
      "outputs": [
        {
          "output_type": "display_data",
          "data": {
            "application/vnd.jupyter.widget-view+json": {
              "model_id": "0b876447478b4474ae354a72732942fd",
              "version_minor": 0,
              "version_major": 2
            },
            "text/plain": [
              "HBox(children=(FloatProgress(value=0.0, description='Downloading', max=231508.0, style=ProgressStyle(descripti…"
            ]
          },
          "metadata": {
            "tags": []
          }
        },
        {
          "output_type": "stream",
          "text": [
            "\n"
          ],
          "name": "stdout"
        }
      ]
    },
    {
      "cell_type": "markdown",
      "metadata": {
        "id": "oHCiXQf6A90I",
        "colab_type": "text"
      },
      "source": [
        "#**4.TESTING THE MODEL**#"
      ]
    },
    {
      "cell_type": "code",
      "metadata": {
        "id": "ze38kLA6A5Uz",
        "colab_type": "code",
        "colab": {}
      },
      "source": [
        "#input consists of Question and a context \n",
        "question = \"How many layers\"\n",
        "answer_text = \"BERT-large is really big... it has 24-layers and an embedding size of 1,024, for a total of 340M parameters! Altogether it is 1.34GB, so expect it to take a couple minutes to download to your Colab instance.\""
      ],
      "execution_count": null,
      "outputs": []
    },
    {
      "cell_type": "code",
      "metadata": {
        "id": "yfZIMfEkBGfY",
        "colab_type": "code",
        "colab": {
          "base_uri": "https://localhost:8080/",
          "height": 34
        },
        "outputId": "1e1fc558-5e57-4f1f-e476-66dd0dd0df92"
      },
      "source": [
        "# Apply the tokenizer to the input text, treating them as a text-pair. Question and context is concatenated with [SEP] token\n",
        "input_ids = tokenizer.encode(question, answer_text)\n",
        "\n",
        "print('The input has a total of {:} tokens.'.format(len(input_ids)))"
      ],
      "execution_count": null,
      "outputs": [
        {
          "output_type": "stream",
          "text": [
            "The input has a total of 64 tokens.\n"
          ],
          "name": "stdout"
        }
      ]
    },
    {
      "cell_type": "code",
      "metadata": {
        "id": "N6YeWpnmBI-7",
        "colab_type": "code",
        "colab": {
          "base_uri": "https://localhost:8080/",
          "height": 1000
        },
        "outputId": "305a82ed-bf4b-458b-b2fa-503ac9f4127d"
      },
      "source": [
        "# BERT only needs the token IDs, but for the purpose of inspecting the \n",
        "# tokenizer's behavior, let's also get the token strings and display them.\n",
        "tokens = tokenizer.convert_ids_to_tokens(input_ids)\n",
        "\n",
        "# For each token and its id...\n",
        "for token, id in zip(tokens, input_ids):\n",
        "    \n",
        "    # If this is the [SEP] token, add some space around it to make it stand out.\n",
        "    if id == tokenizer.sep_token_id:\n",
        "        print('')\n",
        "    \n",
        "    # Print the token string and its ID in two columns.\n",
        "    print('{:<12} {:>6,}'.format(token, id))\n",
        "\n",
        "    if id == tokenizer.sep_token_id:\n",
        "        print('')\n",
        "    "
      ],
      "execution_count": null,
      "outputs": [
        {
          "output_type": "stream",
          "text": [
            "[CLS]           101\n",
            "how           2,129\n",
            "many          2,116\n",
            "layers        9,014\n",
            "\n",
            "[SEP]           102\n",
            "\n",
            "bert         14,324\n",
            "-             1,011\n",
            "large         2,312\n",
            "is            2,003\n",
            "really        2,428\n",
            "big           2,502\n",
            ".             1,012\n",
            ".             1,012\n",
            ".             1,012\n",
            "it            2,009\n",
            "has           2,038\n",
            "24            2,484\n",
            "-             1,011\n",
            "layers        9,014\n",
            "and           1,998\n",
            "an            2,019\n",
            "em            7,861\n",
            "##bed         8,270\n",
            "##ding        4,667\n",
            "size          2,946\n",
            "of            1,997\n",
            "1             1,015\n",
            ",             1,010\n",
            "02            6,185\n",
            "##4           2,549\n",
            ",             1,010\n",
            "for           2,005\n",
            "a             1,037\n",
            "total         2,561\n",
            "of            1,997\n",
            "340          16,029\n",
            "##m           2,213\n",
            "parameters   11,709\n",
            "!               999\n",
            "altogether   10,462\n",
            "it            2,009\n",
            "is            2,003\n",
            "1             1,015\n",
            ".             1,012\n",
            "34            4,090\n",
            "##gb         18,259\n",
            ",             1,010\n",
            "so            2,061\n",
            "expect        5,987\n",
            "it            2,009\n",
            "to            2,000\n",
            "take          2,202\n",
            "a             1,037\n",
            "couple        3,232\n",
            "minutes       2,781\n",
            "to            2,000\n",
            "download      8,816\n",
            "to            2,000\n",
            "your          2,115\n",
            "cola         15,270\n",
            "##b           2,497\n",
            "instance      6,013\n",
            ".             1,012\n",
            "\n",
            "[SEP]           102\n",
            "\n"
          ],
          "name": "stdout"
        }
      ]
    },
    {
      "cell_type": "markdown",
      "metadata": {
        "id": "96lX5-qPHy8o",
        "colab_type": "text"
      },
      "source": [
        "*Note::We've concatenated the question and answer_txt together, but BERT still needs to distinguish .. BERT has two special \"Segment\" embeddings, one for segment \"A\" and one for segment \"B\". Before the word embeddings go into the BERT layers, the segment A embedding needs to be added to the question tokens, and the segment B embedding needs to be added to each of the answer_text tokens.\n",
        "\n",
        "These additions are handled for us by the transformer library, and all we need to do is specify a '0' or '1' for each token.\n",
        "\n",
        "Note: In the transformers library, huggingface likes to call these token_type_ids, but I'm going with segment_ids since this seems clearer, and is consistent with the BERT paper.*"
      ]
    },
    {
      "cell_type": "code",
      "metadata": {
        "id": "mEUwtJzQBME5",
        "colab_type": "code",
        "colab": {}
      },
      "source": [
        "# Search the input_ids for the first instance of the `[SEP]` token.\n",
        "sep_index = input_ids.index(tokenizer.sep_token_id)\n",
        "\n",
        "# The number of segment A tokens includes the [SEP] token istelf.\n",
        "num_seg_a = sep_index + 1\n",
        "\n",
        "# The remainder are segment B.\n",
        "num_seg_b = len(input_ids) - num_seg_a\n",
        "\n",
        "# Construct the list of 0s and 1s.\n",
        "segment_ids = [0]*num_seg_a + [1]*num_seg_b\n",
        "\n",
        "# There should be a segment_id for every input token.\n",
        "assert len(segment_ids) == len(input_ids)"
      ],
      "execution_count": null,
      "outputs": []
    },
    {
      "cell_type": "code",
      "metadata": {
        "id": "u4tR7FZoBOk_",
        "colab_type": "code",
        "colab": {}
      },
      "source": [
        "# Run our example through the model.\n",
        "start_scores, end_scores = model(torch.tensor([input_ids]), # The tokens representing our input text.\n",
        "                                 token_type_ids=torch.tensor([segment_ids])) # The segment IDs to differentiate question from answer_text\n"
      ],
      "execution_count": null,
      "outputs": []
    },
    {
      "cell_type": "code",
      "metadata": {
        "id": "Dj2cuX-RBRSy",
        "colab_type": "code",
        "colab": {
          "base_uri": "https://localhost:8080/",
          "height": 34
        },
        "outputId": "9e3ce209-c832-44c5-8e37-54bc83523dcd"
      },
      "source": [
        "# Find the tokens with the highest `start` and `end` scores.\n",
        "answer_start = torch.argmax(start_scores)\n",
        "answer_end = torch.argmax(end_scores)\n",
        "\n",
        "# Combine the tokens in the answer and print it out.\n",
        "answer = ' '.join(tokens[answer_start:answer_end+1])\n",
        "\n",
        "print('Answer: \"' + answer + '\"')"
      ],
      "execution_count": null,
      "outputs": [
        {
          "output_type": "stream",
          "text": [
            "Answer: \"24\"\n"
          ],
          "name": "stdout"
        }
      ]
    },
    {
      "cell_type": "code",
      "metadata": {
        "id": "Q8LvxoizBTr2",
        "colab_type": "code",
        "colab": {}
      },
      "source": [
        "import matplotlib.pyplot as plt\n",
        "import seaborn as sns\n",
        "\n",
        "# Use plot styling from seaborn.\n",
        "sns.set(style='darkgrid')\n",
        "\n",
        "# Increase the plot size and font size.\n",
        "#sns.set(font_scale=1.5)\n",
        "plt.rcParams[\"figure.figsize\"] = (16,8)"
      ],
      "execution_count": null,
      "outputs": []
    },
    {
      "cell_type": "markdown",
      "metadata": {
        "id": "pwPyPA0ptn6o",
        "colab_type": "text"
      },
      "source": [
        "#**5.Visualising the Scores**#"
      ]
    },
    {
      "cell_type": "code",
      "metadata": {
        "id": "ZgWhwRYlBjcQ",
        "colab_type": "code",
        "colab": {}
      },
      "source": [
        "# Pull the scores out of PyTorch Tensors and convert them to 1D numpy arrays.\n",
        "s_scores = start_scores.detach().numpy().flatten()\n",
        "e_scores = end_scores.detach().numpy().flatten()\n",
        "\n",
        "# We'll use the tokens as the x-axis labels. In order to do that, they all need\n",
        "# to be unique, so we'll add the token index to the end of each one.\n",
        "token_labels = []\n",
        "for (i, token) in enumerate(tokens):\n",
        "    token_labels.append('{:} - {:>2}'.format(token, i))\n"
      ],
      "execution_count": null,
      "outputs": []
    },
    {
      "cell_type": "code",
      "metadata": {
        "id": "Nspoj2D8Bl_1",
        "colab_type": "code",
        "colab": {
          "base_uri": "https://localhost:8080/",
          "height": 525
        },
        "outputId": "e0d882c8-59fe-4b3a-83df-09264c8eee0b"
      },
      "source": [
        "# Create a barplot showing the start word score for all of the tokens.\n",
        "ax = sns.barplot(x=token_labels, y=s_scores, ci=None)\n",
        "\n",
        "# Turn the xlabels vertical.\n",
        "ax.set_xticklabels(ax.get_xticklabels(), rotation=90, ha=\"center\")\n",
        "\n",
        "# Turn on the vertical grid to help align words to scores.\n",
        "ax.grid(True)\n",
        "\n",
        "plt.title('Start Word Scores')\n",
        "\n",
        "plt.show()"
      ],
      "execution_count": null,
      "outputs": [
        {
          "output_type": "display_data",
          "data": {
            "image/png": "[encoded data removed]",
            "text/plain": [
              "<Figure size 1152x576 with 1 Axes>"
            ]
          },
          "metadata": {
            "tags": []
          }
        }
      ]
    },
    {
      "cell_type": "code",
      "metadata": {
        "id": "u9g3ubOyBnp5",
        "colab_type": "code",
        "colab": {
          "base_uri": "https://localhost:8080/",
          "height": 525
        },
        "outputId": "f0802584-c44b-4653-f8e9-9ef66f1d0696"
      },
      "source": [
        "# Create a barplot showing the end word score for all of the tokens.\n",
        "ax = sns.barplot(x=token_labels, y=e_scores, ci=None)\n",
        "\n",
        "# Turn the xlabels vertical.\n",
        "ax.set_xticklabels(ax.get_xticklabels(), rotation=90, ha=\"center\")\n",
        "\n",
        "# Turn on the vertical grid to help align words to scores.\n",
        "ax.grid(True)\n",
        "\n",
        "plt.title('End Word Scores')\n",
        "\n",
        "plt.show()"
      ],
      "execution_count": null,
      "outputs": [
        {
          "output_type": "display_data",
          "data": {
            "image/png": "[encoded data removed]",
            "text/plain": [
              "<Figure size 1152x576 with 1 Axes>"
            ]
          },
          "metadata": {
            "tags": []
          }
        }
      ]
    },
    {
      "cell_type": "code",
      "metadata": {
        "id": "S0naaURkBqEQ",
        "colab_type": "code",
        "colab": {}
      },
      "source": [
        ""
      ],
      "execution_count": null,
      "outputs": []
    }
  ]
}